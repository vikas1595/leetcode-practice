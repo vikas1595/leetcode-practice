{
 "cells": [
  {
   "cell_type": "markdown",
   "metadata": {},
   "source": [
    "\n",
    "Given an array of integers nums and an integer target, return indices of the two numbers such that they add up to target.\n",
    "You may assume that each input would have exactly one solution, and you may not use the same element twice.\n",
    "You can return the answer in any order."
   ]
  },
  {
   "cell_type": "code",
   "execution_count": 4,
   "metadata": {},
   "outputs": [
    {
     "name": "stdout",
     "output_type": "stream",
     "text": [
      "[1, 2]\n"
     ]
    }
   ],
   "source": [
    "def twoSum( nums: list[int], target: int) -> list[int]:\n",
    "        # dict to hold index of items that is iterated\n",
    "        checked_items=dict()\n",
    "        for i,item in enumerate(nums):\n",
    "            expected_item=target-item\n",
    "            # check if expected item is already indexed\n",
    "            if expected_item in checked_items:\n",
    "                return [checked_items.get(expected_item),i]\n",
    "            checked_items[item]=i\n",
    "\n",
    "# Example usage\n",
    "nums = [2, 7, 11, 15]\n",
    "target = 18\n",
    "print(twoSum(nums, target))  # Output: [0, 1]"
   ]
  },
  {
   "cell_type": "markdown",
   "metadata": {},
   "source": []
  },
  {
   "cell_type": "code",
   "execution_count": 14,
   "metadata": {},
   "outputs": [
    {
     "data": {
      "text/plain": [
       "'sakiv'"
      ]
     },
     "execution_count": 14,
     "metadata": {},
     "output_type": "execute_result"
    }
   ],
   "source": [
    "'vikas'[::-1]"
   ]
  },
  {
   "cell_type": "code",
   "execution_count": 19,
   "metadata": {},
   "outputs": [
    {
     "name": "stdout",
     "output_type": "stream",
     "text": [
      "['1', '2', '1']\n"
     ]
    },
    {
     "data": {
      "text/plain": [
       "True"
      ]
     },
     "execution_count": 19,
     "metadata": {},
     "output_type": "execute_result"
    }
   ],
   "source": [
    "def isPalindrome(x: int) -> bool:\n",
    "    reverse=[]\n",
    "    for i in str(x)[::-1]:\n",
    "        reverse.append(i)  \n",
    "    return  bool(('').join(reverse)==str(x))\n",
    "isPalindrome(121)\n"
   ]
  },
  {
   "cell_type": "code",
   "execution_count": 2,
   "metadata": {},
   "outputs": [
    {
     "data": {
      "text/plain": [
       "True"
      ]
     },
     "execution_count": 2,
     "metadata": {},
     "output_type": "execute_result"
    }
   ],
   "source": [
    "\n",
    "def isPalindrome(x: int) -> bool:\n",
    "    if x < 0:\n",
    "        return False\n",
    "    original = x\n",
    "    reversed_num = 0\n",
    "    while x > 0:\n",
    "        reversed_num = reversed_num * 10 + x % 10\n",
    "        x //= 10\n",
    "    return original == reversed_num\n",
    "\n",
    "\n",
    "isPalindrome(1234321)"
   ]
  },
  {
   "cell_type": "code",
   "execution_count": 3,
   "metadata": {},
   "outputs": [
    {
     "data": {
      "text/plain": [
       "False"
      ]
     },
     "execution_count": 3,
     "metadata": {},
     "output_type": "execute_result"
    }
   ],
   "source": [
    "\n",
    "def isPalindrome( x: int) -> bool:\n",
    "    if x < 0:\n",
    "        return False\n",
    "    original = x\n",
    "    reversed_num = 0\n",
    "    while x > 0:\n",
    "        reversed_num = reversed_num * 10 + x % 10\n",
    "        x //= 10\n",
    "    return original == reversed_num\n",
    "isPalindrome(1232)"
   ]
  },
  {
   "cell_type": "code",
   "execution_count": 26,
   "metadata": {},
   "outputs": [
    {
     "data": {
      "text/plain": [
       "4"
      ]
     },
     "execution_count": 26,
     "metadata": {},
     "output_type": "execute_result"
    }
   ],
   "source": [
    "ceil(3.11)"
   ]
  },
  {
   "cell_type": "code",
   "execution_count": null,
   "metadata": {},
   "outputs": [],
   "source": []
  }
 ],
 "metadata": {
  "kernelspec": {
   "display_name": ".venv",
   "language": "python",
   "name": "python3"
  },
  "language_info": {
   "codemirror_mode": {
    "name": "ipython",
    "version": 3
   },
   "file_extension": ".py",
   "mimetype": "text/x-python",
   "name": "python",
   "nbconvert_exporter": "python",
   "pygments_lexer": "ipython3",
   "version": "3.11.9"
  }
 },
 "nbformat": 4,
 "nbformat_minor": 2
}
